{
 "cells": [
  {
   "cell_type": "code",
   "execution_count": 7,
   "metadata": {},
   "outputs": [],
   "source": [
    "# 列表相关\n",
    "\n",
    "#sorted 对列表进行临时排序\n",
    "ls = [\"ahello\",\"bworld\",\"ctest\",\"docean\"]\n",
    "# print(sorted(ls,reverse=True))"
   ]
  },
  {
   "cell_type": "code",
   "execution_count": 8,
   "metadata": {},
   "outputs": [
    {
     "name": "stdout",
     "output_type": "stream",
     "text": [
      "['docean', 'ctest', 'bworld', 'ahello']\n"
     ]
    }
   ],
   "source": [
    "#倒序\n",
    "ls.reverse()\n",
    "print(ls)\n",
    "# ls.reverse()\n",
    "# print(ls)"
   ]
  },
  {
   "cell_type": "code",
   "execution_count": 9,
   "metadata": {},
   "outputs": [
    {
     "name": "stdout",
     "output_type": "stream",
     "text": [
      "['ahello', 'bworld', 'ctest', 'docean']\n",
      "['docean', 'ctest', 'bworld', 'ahello']\n"
     ]
    }
   ],
   "source": [
    "#使用sort()对列表进行永久排序\n",
    "ls.sort()\n",
    "print(ls)\n",
    "ls.sort(reverse=True)\n",
    "print(ls)"
   ]
  },
  {
   "cell_type": "code",
   "execution_count": 10,
   "metadata": {},
   "outputs": [
    {
     "name": "stdout",
     "output_type": "stream",
     "text": [
      "Alice,that was a great trick!\n",
      "David,that was a great trick!\n",
      "Carolina,that was a great trick!\n",
      "Docean,python\n",
      "Ctest,python\n",
      "Bworld,python\n",
      "Ahello,python\n",
      "1\n",
      "2\n",
      "3\n",
      "4\n",
      "[1, 4, 9, 16, 25, 36, 49, 64, 81, 100]\n"
     ]
    }
   ],
   "source": [
    "#遍历\n",
    "magicians = ['alice', 'david', 'carolina']\n",
    "for magician in magicians:\n",
    "    print(magician.title()+\",that was a great trick!\")\n",
    "\n",
    "for ls1  in  ls:\n",
    "    print(ls1.title()+\",python\")\n",
    "\n",
    "for value in range(1,5):\n",
    "    print(value)\n",
    "\n",
    "squares=[]\n",
    "for value in range(1,11):\n",
    "    square = value ** 2\n",
    "    squares.append(square)\n",
    "\n",
    "print(squares)\n",
    "\n"
   ]
  },
  {
   "cell_type": "code",
   "execution_count": 12,
   "metadata": {},
   "outputs": [
    {
     "name": "stdout",
     "output_type": "stream",
     "text": [
      "[1, 4, 9, 16, 25, 36, 49, 64, 81, 100]\n"
     ]
    }
   ],
   "source": [
    "\n",
    "# 列表解析\n",
    "squares1 = [value**2 for value in range(1,11)]\n",
    "print(squares1)"
   ]
  },
  {
   "cell_type": "code",
   "execution_count": 13,
   "metadata": {},
   "outputs": [
    {
     "name": "stdout",
     "output_type": "stream",
     "text": [
      "pizza1,I like pepperroni pizza\n",
      "pizza2,I like pepperroni pizza\n",
      "pizza3,I like pepperroni pizza\n",
      "I really love pizza!\n",
      "[1, 4, 9, 16, 25, 36, 49, 64, 81, 100]\n"
     ]
    }
   ],
   "source": [
    "# 练习4-1\n",
    "pizzas = [\"pizza1\",\"pizza2\",\"pizza3\"]\n",
    "for pizza in pizzas:\n",
    "    print(pizza+\",I like pepperroni pizza\")\n",
    "print(\"I really love pizza!\")\n",
    "\n",
    "# 列表解析\n",
    "squares1 = [value**2 for value in range(1,11)]\n",
    "print(squares1)"
   ]
  },
  {
   "cell_type": "code",
   "execution_count": 14,
   "metadata": {},
   "outputs": [
    {
     "name": "stdout",
     "output_type": "stream",
     "text": [
      "1\n",
      "1000000\n",
      "500000500000\n"
     ]
    }
   ],
   "source": [
    "# 练习4-5\n",
    "ls2 = []\n",
    "for value1 in range(1,1000001):\n",
    "    ls2.append(value1)\n",
    "print(min(ls2))\n",
    "print(max(ls2))\n",
    "print(sum(ls2))"
   ]
  },
  {
   "cell_type": "code",
   "execution_count": 15,
   "metadata": {},
   "outputs": [
    {
     "name": "stdout",
     "output_type": "stream",
     "text": [
      "[1, 3, 5, 7, 9, 11, 13, 15, 17, 19]\n",
      "[1, 3, 5, 7, 9, 11, 13, 15, 17, 19]\n",
      "[1, 3, 5, 7, 9, 11, 13, 15, 17, 19]\n",
      "[1, 3, 5, 7, 9, 11, 13, 15, 17, 19]\n",
      "[1, 3, 5, 7, 9, 11, 13, 15, 17, 19]\n",
      "[1, 3, 5, 7, 9, 11, 13, 15, 17, 19]\n",
      "[1, 3, 5, 7, 9, 11, 13, 15, 17, 19]\n",
      "[1, 3, 5, 7, 9, 11, 13, 15, 17, 19]\n",
      "[1, 3, 5, 7, 9, 11, 13, 15, 17, 19]\n",
      "[1, 3, 5, 7, 9, 11, 13, 15, 17, 19]\n"
     ]
    }
   ],
   "source": [
    "#practice 4-6\n",
    "ls3=[]\n",
    "for value2 in range(1,21,2):\n",
    "    ls3.append(value2)\n",
    "    # print(ls3)\n",
    "for value3 in range(1,21,2):\n",
    "    print(ls3)\n",
    "\n",
    "# i = 0\n",
    "# while i < len(ls3):    \n",
    "#     print(ls3)\n",
    "#     i += 1\n"
   ]
  },
  {
   "cell_type": "code",
   "execution_count": null,
   "metadata": {},
   "outputs": [],
   "source": [
    "# 列表切片\n"
   ]
  }
 ],
 "metadata": {
  "kernelspec": {
   "display_name": "Python 3",
   "language": "python",
   "name": "python3"
  },
  "language_info": {
   "codemirror_mode": {
    "name": "ipython",
    "version": 3
   },
   "file_extension": ".py",
   "mimetype": "text/x-python",
   "name": "python",
   "nbconvert_exporter": "python",
   "pygments_lexer": "ipython3",
   "version": "3.11.0"
  },
  "orig_nbformat": 4
 },
 "nbformat": 4,
 "nbformat_minor": 2
}
