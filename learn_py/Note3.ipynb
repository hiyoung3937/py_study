{
 "cells": [
  {
   "cell_type": "code",
   "execution_count": 26,
   "metadata": {},
   "outputs": [
    {
     "name": "stdout",
     "output_type": "stream",
     "text": [
      "green\n",
      "5\n"
     ]
    }
   ],
   "source": [
    "#字典(键值对)\n",
    "alien_0 = {'color':'green', 'points':5}\n",
    "print(alien_0['color'])\n",
    "print(alien_0['points'])"
   ]
  },
  {
   "cell_type": "code",
   "execution_count": 27,
   "metadata": {},
   "outputs": [
    {
     "name": "stdout",
     "output_type": "stream",
     "text": [
      "you just earned 5 points!\n"
     ]
    }
   ],
   "source": [
    "new_points = alien_0['points']\n",
    "print(\"you just earned \" + str(new_points)+\" points!\") "
   ]
  },
  {
   "cell_type": "code",
   "execution_count": 28,
   "metadata": {},
   "outputs": [
    {
     "name": "stdout",
     "output_type": "stream",
     "text": [
      "{'color': 'green', 'points': 5, 'x_position': 0, 'y_position': 25}\n"
     ]
    }
   ],
   "source": [
    "#可以动态添加键值对\n",
    "alien_0['x_position'] = 0\n",
    "alien_0['y_position'] = 25\n",
    "print(alien_0)"
   ]
  },
  {
   "cell_type": "code",
   "execution_count": 29,
   "metadata": {},
   "outputs": [
    {
     "name": "stdout",
     "output_type": "stream",
     "text": [
      "the alien is green.\n"
     ]
    }
   ],
   "source": [
    "alien_1 = {\"color\" : \"green\"}\n",
    "print(\"the alien is \" + alien_1['color'] + \".\")"
   ]
  },
  {
   "cell_type": "code",
   "execution_count": 30,
   "metadata": {},
   "outputs": [
    {
     "name": "stdout",
     "output_type": "stream",
     "text": [
      "the alien now is yellow.\n"
     ]
    }
   ],
   "source": [
    "alien_1['color'] = 'yellow'\n",
    "print(\"the alien now is \" + alien_1['color'] + \".\")"
   ]
  },
  {
   "cell_type": "code",
   "execution_count": 31,
   "metadata": {},
   "outputs": [
    {
     "name": "stdout",
     "output_type": "stream",
     "text": [
      "Origenal x_position: 0\n",
      "New x_position: 3\n"
     ]
    }
   ],
   "source": [
    "alien_2 = {'x_position': 0, 'y_position': 25,'speed': 'fast'}\n",
    "print(\"Origenal x_position: \" + str(alien_2['x_position']))\n",
    "      \n",
    "#向右移动外星人\n",
    "#根据外星人当前速度决定移动距离\n",
    "\n",
    "if alien_2['speed'] == 'slow':\n",
    "      x_increment = 1\n",
    "elif alien_2['speed'] == 'medium':\n",
    "      x_increment = 2\n",
    "#elif alien_2['speed'] == 'fast':\n",
    "elif alien_2['speed'] == 'fast':\n",
    "    x_increment = 3\n",
    "    \n",
    "alien_2['x_position'] = alien_2['x_position'] + x_increment\n",
    "print(\"New x_position: \"+ str(alien_2['x_position']))"
   ]
  },
  {
   "cell_type": "code",
   "execution_count": 32,
   "metadata": {},
   "outputs": [
    {
     "name": "stdout",
     "output_type": "stream",
     "text": [
      "{'color': 'green', 'points': 5, 'x_position': 0, 'y_position': 25}\n"
     ]
    }
   ],
   "source": [
    "#删除键值对\n",
    "print(alien_0)\n",
    "# del alien_0['points']"
   ]
  },
  {
   "cell_type": "code",
   "execution_count": 33,
   "metadata": {},
   "outputs": [
    {
     "name": "stdout",
     "output_type": "stream",
     "text": [
      "Sarah`s favorite languages is C.\n"
     ]
    }
   ],
   "source": [
    "favorite_languages = {\n",
    "    'jen' : 'python',\n",
    "    'sarah' : 'c',\n",
    "    'edward' : 'ruby',\n",
    "    'phil' : 'java',\n",
    "}\n",
    "\n",
    "print(\"Sarah`s favorite languages is \" + \n",
    "      favorite_languages['sarah'].title() +\n",
    "      '.')"
   ]
  },
  {
   "cell_type": "code",
   "execution_count": 34,
   "metadata": {},
   "outputs": [
    {
     "name": "stdout",
     "output_type": "stream",
     "text": [
      "\n",
      "Key:username\n",
      "Value:efermi\n",
      "\n",
      "Key:first\n",
      "Value:enrico\n",
      "\n",
      "Key:last\n",
      "Value:fermi\n"
     ]
    }
   ],
   "source": [
    "#遍历所有键值对\n",
    "user_0 = {\n",
    "    'username' : 'efermi',\n",
    "    'first' : 'enrico',\n",
    "    'last' : 'fermi',\n",
    "}\n",
    "\n",
    "for key, value in user_0.items():\n",
    "    print(\"\\nKey:\" + key)\n",
    "    print(\"Value:\" + value)\n"
   ]
  },
  {
   "cell_type": "code",
   "execution_count": 35,
   "metadata": {
    "scrolled": false
   },
   "outputs": [
    {
     "name": "stdout",
     "output_type": "stream",
     "text": [
      "Jen\n",
      "Sarah\n",
      "Edward\n",
      "Phil\n",
      "Bob\n",
      "\n",
      "按顺序遍历字典中的所有键\n",
      "Bob, thank you\n",
      "Edward, thank you\n",
      "Jen, thank you\n",
      "Phil, thank you\n",
      "Sarah, thank you\n",
      "\n",
      "\n",
      "Python\n",
      "C\n",
      "Ruby\n",
      "Java\n",
      "C\n",
      "\n",
      "使用集合剔除重复项\n",
      "Java\n",
      "Ruby\n",
      "Python\n",
      "C\n"
     ]
    }
   ],
   "source": [
    "#遍历字典中所有的键和值\n",
    "favorite_languages = {\n",
    "    'jen' : 'python',\n",
    "    'sarah' : 'c',\n",
    "    'edward' : 'ruby',\n",
    "    'phil' : 'java',\n",
    "    'bob' : 'c',\n",
    "}\n",
    "\n",
    "for name in favorite_languages.keys():\n",
    "    print(name.title())\n",
    "print(\"\\n按顺序遍历字典中的所有键\")\n",
    "for name in sorted(favorite_languages.keys()):\n",
    "    print(name.title() + \", thank you\")\n",
    "print(\"\\n\")\n",
    "for language in favorite_languages.values():\n",
    "    print(language.title())\n",
    "print(\"\\n使用集合剔除重复项\")\n",
    "for language in set(favorite_languages.values()):\n",
    "    print(language.title())"
   ]
  },
  {
   "cell_type": "code",
   "execution_count": null,
   "metadata": {},
   "outputs": [],
   "source": []
  }
 ],
 "metadata": {
  "kernelspec": {
   "display_name": "Python 3",
   "language": "python",
   "name": "python3"
  },
  "language_info": {
   "codemirror_mode": {
    "name": "ipython",
    "version": 3
   },
   "file_extension": ".py",
   "mimetype": "text/x-python",
   "name": "python",
   "nbconvert_exporter": "python",
   "pygments_lexer": "ipython3",
   "version": "3.7.3"
  }
 },
 "nbformat": 4,
 "nbformat_minor": 2
}
